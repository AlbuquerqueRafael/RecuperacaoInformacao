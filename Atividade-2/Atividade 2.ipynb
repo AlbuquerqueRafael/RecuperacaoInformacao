{
 "cells": [
  {
   "cell_type": "code",
   "execution_count": 348,
   "metadata": {},
   "outputs": [],
   "source": [
    "import pandas as pd\n",
    "import nltk\n",
    "import math\n",
    "import numpy as np\n"
   ]
  },
  {
   "cell_type": "code",
   "execution_count": 349,
   "metadata": {},
   "outputs": [],
   "source": [
    "#Inicia os constantes\n",
    "sizeDF = 8716"
   ]
  },
  {
   "cell_type": "code",
   "execution_count": 350,
   "metadata": {},
   "outputs": [],
   "source": [
    "#Função para carregar o csv, preencher os espaços NaN e formatar o contéudo que ira ser utilizado\n",
    "def getCSVFormattedAsDF():\n",
    "    df = pd.read_csv('estadao_noticias_eleicao.csv')\n",
    "    df = df.fillna('')\n",
    "    df[\"data\"] = df[\"titulo\"] + ' ' +  df[\"subTitulo\"] + ' ' + df[\"conteudo\"]\n",
    "    return df\n",
    "\n",
    "#Função para carregar o csv do gabarito que será utilizado no experimento\n",
    "def getGabaritoDF():\n",
    "    df = pd.read_csv('gabarito.csv')\n",
    "    return df"
   ]
  },
  {
   "cell_type": "code",
   "execution_count": 351,
   "metadata": {},
   "outputs": [],
   "source": [
    "\"\"\"\n",
    " return as informações de tf que serão utilizado durante todo o experimento.\n",
    "   {\"idNoticia1\": {\"word1\": num_ocorrencias}, {\"word2\": num_ocorrencias}, \n",
    "    \"idNoticia2\": {\"word1\": num_ocorrencias}, {\"word3\": num_ocorrencias} ... }\n",
    "\"\"\"\n",
    "def get_tf():\n",
    "    tf = {}\n",
    "    df = getCSVFormattedAsDF()\n",
    "    sizeDF = len(df[\"idNoticia\"])\n",
    "    \n",
    "    for idx in range(sizeDF):\n",
    "        content = df[\"data\"][idx]\n",
    "        words = nltk.word_tokenize(content)\n",
    "        tf[df[\"idNoticia\"][idx]] = {}\n",
    "        for word in words:\n",
    "            word = word.lower()\n",
    "            try:\n",
    "                tf[df[\"idNoticia\"][idx]][word] = tf[df[\"idNoticia\"][idx]][word] + 1\n",
    "            except KeyError:\n",
    "                tf[df[\"idNoticia\"][idx]][word] = 1\n",
    "            \n",
    "    return tf"
   ]
  },
  {
   "cell_type": "code",
   "execution_count": 352,
   "metadata": {},
   "outputs": [],
   "source": [
    "\"\"\"\n",
    " return o idf de cada palavra\n",
    "\"\"\"\n",
    "def get_idf(tf):\n",
    "    tfGeneral = {}\n",
    "    idf = {}\n",
    "    for new in tf:\n",
    "        for word in tf[new]:\n",
    "            try:\n",
    "                tfGeneral[word] = tfGeneral[word] + 1\n",
    "            except KeyError:\n",
    "                 tfGeneral[word] = 1\n",
    "    for word in tfGeneral:\n",
    "        idf[word] = math.log(float(sizeDF)/tfGeneral[word]) \n",
    "    return idf"
   ]
  },
  {
   "cell_type": "code",
   "execution_count": 353,
   "metadata": {},
   "outputs": [],
   "source": [
    "# Retorna o valor dos top5 documentos pela busca binaria, de acordo com a query pesquisada \n",
    "def top5Binario(query, tf):\n",
    "    doc = {}\n",
    "    for new in tf:\n",
    "        doc[new] = 0\n",
    "        sum = 0\n",
    "        checkIfConjuntive = True\n",
    "        for palavra in query:\n",
    "            if (palavra in tf[new]):\n",
    "                sum += doc[new] + 1\n",
    "            else:\n",
    "                checkIfConjuntive = False\n",
    "        if (checkIfConjuntive):\n",
    "            doc[new] = True\n",
    "    sortedDoc = sorted(doc, key=doc.get, reverse=True)\n",
    "    \n",
    "    return sortedDoc[0:5]\n",
    " \n",
    "# Retorna o valor dos top5 documentos pelo tf, de acordo com a query pesquisada \n",
    "def top5TF(query, tf):\n",
    "    doc = {}\n",
    "    for new in tf:\n",
    "        doc[new] = 0\n",
    "        sum = 0\n",
    "        checkIfConjuntive = True\n",
    "        for palavra in query:\n",
    "            if (palavra in tf[new]):\n",
    "                sum += tf[new][palavra]\n",
    "            else:\n",
    "                checkIfConjuntive = False\n",
    "        if (checkIfConjuntive):\n",
    "            doc[new] += sum\n",
    "    sortedDoc = sorted(doc, key=doc.get, reverse=True)\n",
    "\n",
    "    return sortedDoc[0:5]\n",
    "\n",
    "# Retorna o valor dos top5 documentos pelo idf, de acordo com a query pesquisada \n",
    "def top5TFIDF(query, tf, idf):\n",
    "    doc = {}\n",
    "    for new in tf:\n",
    "        doc[new] = 0\n",
    "        sum = 0\n",
    "        checkIfConjuntive = True\n",
    "        for palavra in query:\n",
    "            if (palavra in tf[new]):\n",
    "                sum += tf[new][palavra] * idf[palavra]\n",
    "            else:\n",
    "                checkIfConjuntive = False\n",
    "        if (checkIfConjuntive):\n",
    "            doc[new] += sum\n",
    "    sortedDoc = sorted(doc, key=doc.get, reverse=True)\n",
    "\n",
    "    return sortedDoc[0:5]\n",
    "\n",
    "# Retorna o valor dos top5 documentos pelo idf, de acordo com a query pesquisada \n",
    "def top5bm25(query, tf, idf):\n",
    "    doc = {}\n",
    "    k = 1.5\n",
    "    b = 0.75\n",
    "    for new in tf:\n",
    "        doc[new] = 0\n",
    "        sum = 0\n",
    "        checkIfConjuntive = True\n",
    "        for palavra in query:\n",
    "            if (palavra in tf[new]):\n",
    "                sum += ((tf[new][palavra]*(k+1.0)) / (tf[new][palavra] + k*0.25 + k*b*(())) * idf[palavra] \n",
    "            else:\n",
    "                checkIfConjuntive = False\n",
    "        if(checkIfConjuntive):\n",
    "            doc[new] += sum\n",
    "       \n",
    "    sortedDoc = sorted(doc, key=doc.get, reverse=True)\n",
    "\n",
    "    return sortedDoc[0:5]"
   ]
  },
  {
   "cell_type": "code",
   "execution_count": 354,
   "metadata": {},
   "outputs": [],
   "source": [
    "# Funções comparativas do experimento\n",
    "def apk(actual, predicted, k=10):\n",
    "    if (len(predicted)>k):\n",
    "        predicted = predicted[:k]\n",
    "        \n",
    "    score = 0.0\n",
    "    num_hits = 0.0\n",
    "\n",
    "    for i,p in enumerate(predicted):\n",
    "        if p in actual and p not in predicted[:i]:\n",
    "            num_hits += 1.0\n",
    "            score += num_hits / (i+1.0)\n",
    "\n",
    "    if (not actual):\n",
    "        return 0.0\n",
    "\n",
    "    return (score / min(len(actual), k))\n",
    "\n",
    "def mapk(actual, predicted, k=10):\n",
    "    return np.mean([apk(a,p,k) for a,p in zip(actual, predicted)])"
   ]
  },
  {
   "cell_type": "code",
   "execution_count": 355,
   "metadata": {},
   "outputs": [],
   "source": [
    "#Funções para montar as respostas em formato de dicionarios de arrays oriundas do gabarito do experimento\n",
    "def getGabFormatted(key, idx):\n",
    "    formattedGab = gabaritoDF[key][idx].replace(\",\", \"\")\n",
    "    formattedGab = formattedGab.replace(\"[\", \"\")\n",
    "    formattedGab = formattedGab.replace(\"]\", \"\")\n",
    "    return list(map(int, formattedGab.split(' ')))\n",
    "\n",
    "def getGabResult(): \n",
    "    gabaritoDF = getGabaritoDF()\n",
    "    gabResult = {}\n",
    "    gabResult[\"tf\"] = []\n",
    "    gabResult[\"binario\"] = []\n",
    "    gabResult[\"tfidf\"] = []\n",
    "    gabResult[\"bm25\"] = []\n",
    "\n",
    "    for idx in range(len(gabaritoDF)):\n",
    "        gabResult[\"tf\"].append(getGabFormatted(\"tf\", idx))\n",
    "        gabResult[\"binario\"].append(getGabFormatted(\"busca_binaria\",idx))\n",
    "        gabResult[\"tfidf\"].append(getGabFormatted(\"tfidf\",idx))\n",
    "        gabResult[\"bm25\"].append(getGabFormatted(\"bm25\",idx))\n",
    "    return gabResult"
   ]
  },
  {
   "cell_type": "code",
   "execution_count": 364,
   "metadata": {},
   "outputs": [],
   "source": [
    "#Funções para montar as respostas em formato de dicionarios de arrays oriundas das minhas respostas obtidas no experimento\n",
    "def getMyResultsFormatted(queries, tf, idf):\n",
    "    myResult = {}\n",
    "    myResult[\"tf\"] = []\n",
    "    myResult[\"binario\"] = []\n",
    "    myResult[\"tfidf\"] = []\n",
    "    myResult[\"bm25\"] = []\n",
    "\n",
    "    for query in queries:\n",
    "        myResult[\"binario\"].append(top5Binario(query, tf)) \n",
    "        myResult[\"tf\"].append(top5TF(query, tf))\n",
    "        myResult[\"tfidf\"].append(top5TFIDF(query, tf, idf))\n",
    "        myResult[\"bm25\"].append(top5bm25(query, tf, idf))\n",
    "    return myResult"
   ]
  },
  {
   "cell_type": "code",
   "execution_count": 357,
   "metadata": {},
   "outputs": [],
   "source": [
    "#Armezana em memoria o tf\n",
    "tf = get_tf()\n",
    "#Armezana em memoria o tf\n",
    "idf = get_idf(tf)\n",
    "#Queries que foram utilizadas no experimento\n",
    "queries = [\n",
    "    [\"segundo\", \"turno\"],\n",
    "    [\"lava\", \"jato\"],\n",
    "    [\"projeto\", \"de\", \"lei\"],\n",
    "    [\"compra\", \"de\", \"voto\"],\n",
    "    [\"ministério\", \"público\"]\n",
    "]"
   ]
  },
  {
   "cell_type": "code",
   "execution_count": 367,
   "metadata": {},
   "outputs": [],
   "source": [
    "myResult = getMyResultsFormatted(queries, tf, idf)\n",
    "gabResult = getGabResult()"
   ]
  },
  {
   "cell_type": "code",
   "execution_count": 366,
   "metadata": {},
   "outputs": [
    {
     "name": "stdout",
     "output_type": "stream",
     "text": [
      "1.0\n",
      "0.24\n",
      "0.7606666666666666\n",
      "0.0\n"
     ]
    }
   ],
   "source": [
    "print(mapk(gabResult[\"tf\"], myResult[\"tf\"], k=5))\n",
    "print(mapk(gabResult[\"binario\"], myResult[\"binario\"], k=5))\n",
    "print(mapk(gabResult[\"tfidf\"], myResult[\"tfidf\"], k=5))\n",
    "print(mapk(gabResult[\"bm25\"], myResult[\"bm25\"], k=5))\n"
   ]
  },
  {
   "cell_type": "code",
   "execution_count": 314,
   "metadata": {
    "scrolled": true
   },
   "outputs": [
    {
     "name": "stdout",
     "output_type": "stream",
     "text": [
      "[[1, 7, 13, 26, 69], [27, 81, 92, 95, 98], [10, 25, 182, 263, 264], [82, 553, 748, 854, 1074], [7, 15, 21, 27, 38]]\n"
     ]
    }
   ],
   "source": [
    "print (myResult[\"bm25\"])"
   ]
  },
  {
   "cell_type": "code",
   "execution_count": 346,
   "metadata": {},
   "outputs": [
    {
     "name": "stdout",
     "output_type": "stream",
     "text": [
      "[[2744, 2112, 7672, 1235, 2388], [163, 353, 2807, 127, 359], [7017, 2853, 7, 2232, 3171], [2047, 7017, 7343, 7293, 5129], [6798, 8018, 6244, 6965, 6550]]\n"
     ]
    }
   ],
   "source": [
    "print (myResult[\"tfidf\"])"
   ]
  }
 ],
 "metadata": {
  "kernelspec": {
   "display_name": "Python 3",
   "language": "python",
   "name": "python3"
  },
  "language_info": {
   "codemirror_mode": {
    "name": "ipython",
    "version": 3
   },
   "file_extension": ".py",
   "mimetype": "text/x-python",
   "name": "python",
   "nbconvert_exporter": "python",
   "pygments_lexer": "ipython3",
   "version": "3.6.4"
  }
 },
 "nbformat": 4,
 "nbformat_minor": 2
}
