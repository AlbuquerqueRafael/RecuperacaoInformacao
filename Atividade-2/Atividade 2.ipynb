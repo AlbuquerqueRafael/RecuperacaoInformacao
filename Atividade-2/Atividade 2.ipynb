{
 "cells": [
  {
   "cell_type": "code",
   "execution_count": 82,
   "metadata": {
    "collapsed": true
   },
   "outputs": [],
   "source": [
    "import pandas as pd\n",
    "import math\n",
    "import numpy as np\n"
   ]
  },
  {
   "cell_type": "code",
   "execution_count": 83,
   "metadata": {
    "collapsed": true
   },
   "outputs": [],
   "source": [
    "#Inicia os constantes\n",
    "sizeDF = 8716\n",
    "\n",
    "#Number os words Documents\n",
    "numDocWords = 3677943\n",
    "\n",
    "#Average length documents\n",
    "avgDocs = numDocWords / float(sizeDF)"
   ]
  },
  {
   "cell_type": "code",
   "execution_count": 84,
   "metadata": {},
   "outputs": [],
   "source": [
    "#Função para carregar o csv, preencher os espaços NaN e formatar o contéudo que ira ser utilizado\n",
    "def getCSVFormattedAsDF():\n",
    "    df = pd.read_csv('estadao_noticias_eleicao.csv')\n",
    "    df = df.fillna('')\n",
    "    df[\"data\"] = df[\"titulo\"] + ' ' +  df[\"subTitulo\"] + ' ' + df[\"conteudo\"]\n",
    "\n",
    "    return df\n",
    "\n",
    "#Função para carregar o csv do gabarito que será utilizado no experimento\n",
    "def getGabaritoDF():\n",
    "    df = pd.read_csv('gabarito.csv')\n",
    "    return df\n"
   ]
  },
  {
   "cell_type": "code",
   "execution_count": 85,
   "metadata": {
    "collapsed": true
   },
   "outputs": [],
   "source": [
    "\"\"\"\n",
    " return as informações de tf que serão utilizado durante todo o experimento.\n",
    "   {\"idNoticia1\": {\"word1\": num_ocorrencias}, {\"word2\": num_ocorrencias}, \n",
    "    \"idNoticia2\": {\"word1\": num_ocorrencias}, {\"word3\": num_ocorrencias} ... }\n",
    "\"\"\"\n",
    "def get_tf():\n",
    "    tf = {}\n",
    "    df = getCSVFormattedAsDF()\n",
    "    sizeDF = len(df[\"idNoticia\"])\n",
    "    \n",
    "    for idx in range(sizeDF):\n",
    "        content = df[\"data\"][idx]\n",
    "        words = content.split(\" \")\n",
    "        tf[df[\"idNoticia\"][idx]] = {}\n",
    "        for word in words:\n",
    "            word = word.lower()\n",
    "            try:\n",
    "                tf[df[\"idNoticia\"][idx]][word] = tf[df[\"idNoticia\"][idx]][word] + 1\n",
    "            except KeyError:\n",
    "                tf[df[\"idNoticia\"][idx]][word] = 1\n",
    "            \n",
    "    return tf"
   ]
  },
  {
   "cell_type": "code",
   "execution_count": 86,
   "metadata": {},
   "outputs": [],
   "source": [
    "\"\"\"\n",
    " return o idf de cada palavra\n",
    "\"\"\"\n",
    "def get_idf(tf):\n",
    "    tfGeneral = {}\n",
    "    idf = {}\n",
    "    for new in tf:\n",
    "        for word in tf[new]:\n",
    "            try:\n",
    "                tfGeneral[word] = tfGeneral[word] + 1\n",
    "            except KeyError:\n",
    "                 tfGeneral[word] = 1\n",
    "    for word in tfGeneral:\n",
    "        idf[word] = math.log(float(sizeDF)/(tfGeneral[word])) \n",
    "    return idf"
   ]
  },
  {
   "cell_type": "code",
   "execution_count": 87,
   "metadata": {},
   "outputs": [],
   "source": [
    "# Retorna o valor dos top5 documentos pela busca binaria, de acordo com a query pesquisada \n",
    "def top5Binario(query, tf):\n",
    "    doc = {}\n",
    "    for new in tf:\n",
    "        doc[new] = 0\n",
    "        sum = 0\n",
    "        checkIfConjuntive = True\n",
    "        for palavra in query:\n",
    "            if (palavra in tf[new]):\n",
    "                sum += doc[new] + 1\n",
    "            else:\n",
    "                checkIfConjuntive = False\n",
    "        if (checkIfConjuntive):\n",
    "            doc[new] = True\n",
    "    sortedDoc = sorted(doc, key=doc.get, reverse=True)\n",
    "    \n",
    "    return sortedDoc[0:5]\n",
    " \n",
    "# Retorna o valor dos top5 documentos pelo tf, de acordo com a query pesquisada \n",
    "def top5TF(query, tf):\n",
    "    doc = {}\n",
    "    for new in tf:\n",
    "        doc[new] = 0\n",
    "        sum = 0\n",
    "        checkIfConjuntive = True\n",
    "        for palavra in query:\n",
    "            if (palavra in tf[new]):\n",
    "                sum += tf[new][palavra]\n",
    "            else:\n",
    "                checkIfConjuntive = False\n",
    "        if (checkIfConjuntive):\n",
    "            doc[new] += sum\n",
    "    sortedDoc = sorted(doc, key=doc.get, reverse=True)\n",
    "\n",
    "    return sortedDoc[0:5]\n",
    "\n",
    "# Retorna o valor dos top5 documentos pelo idf, de acordo com a query pesquisada \n",
    "def top5TFIDF(query, tf, idf):\n",
    "    doc = {}\n",
    "    for new in tf:\n",
    "        doc[new] = 0\n",
    "        sum = 0\n",
    "        checkIfConjuntive = True\n",
    "        for palavra in query:\n",
    "            if (palavra in tf[new]):\n",
    "                sum += tf[new][palavra] * idf[palavra]\n",
    "            else:\n",
    "                checkIfConjuntive = False\n",
    "        if (checkIfConjuntive):\n",
    "            doc[new] += sum\n",
    "    sortedDoc = sorted(doc, key=doc.get, reverse=True)\n",
    "\n",
    "    return sortedDoc[0:5]\n",
    "\n",
    "# Retorna o valor dos top5 documentos pelo idf, de acordo com a query pesquisada \n",
    "def top5bm25(query, tf, idf):\n",
    "    doc = {}\n",
    "    k = 1.5\n",
    "    b = 0.75\n",
    "    df = getCSVFormattedAsDF()\n",
    "    \n",
    "    for new in tf:\n",
    "        doc[new] = 0\n",
    "        sum = 0\n",
    "        checkIfConjuntive = True\n",
    "        content = df[\"data\"][new-1]\n",
    "        words = content.split(\" \")\n",
    "        numberDocsNew = len(words)\n",
    "        for palavra in query:\n",
    "            if (palavra in tf[new]):\n",
    "                sum += ((tf[new][palavra]*(k+1.0)) / (tf[new][palavra] + k*0.25 + k*b*(numberDocsNew/avgDocs))) * idf[palavra] \n",
    "            else:\n",
    "                checkIfConjuntive = False\n",
    "        if(checkIfConjuntive):\n",
    "            doc[new] += sum\n",
    "       \n",
    "    sortedDoc = sorted(doc, key=doc.get, reverse=True)\n",
    "\n",
    "    return sortedDoc[0:5]"
   ]
  },
  {
   "cell_type": "code",
   "execution_count": 88,
   "metadata": {
    "collapsed": true
   },
   "outputs": [],
   "source": [
    "# Funções comparativas do experimento\n",
    "def apk(actual, predicted, k=10):\n",
    "    if (len(predicted)>k):\n",
    "        predicted = predicted[:k]\n",
    "        \n",
    "    score = 0.0\n",
    "    num_hits = 0.0\n",
    "\n",
    "    for i,p in enumerate(predicted):\n",
    "        if p in actual and p not in predicted[:i]:\n",
    "            num_hits += 1.0\n",
    "            score += num_hits / (i+1.0)\n",
    "\n",
    "    if (not actual):\n",
    "        return 0.0\n",
    "\n",
    "    return (score / min(len(actual), k))\n",
    "\n",
    "def mapk(actual, predicted, k=10):\n",
    "    return np.mean([apk(a,p,k) for a,p in zip(actual, predicted)])"
   ]
  },
  {
   "cell_type": "code",
   "execution_count": 89,
   "metadata": {
    "collapsed": true
   },
   "outputs": [],
   "source": [
    "#Funções para montar as respostas em formato de dicionarios de arrays oriundas do gabarito do experimento\n",
    "def getGabFormatted(key, idx, gabaritoDF):\n",
    "    formattedGab = gabaritoDF[key][idx].replace(\",\", \"\")\n",
    "    formattedGab = formattedGab.replace(\"[\", \"\")\n",
    "    formattedGab = formattedGab.replace(\"]\", \"\")\n",
    "    return list(map(int, formattedGab.split(' ')))\n",
    "\n",
    "def getGabResult(): \n",
    "    gabaritoDF = getGabaritoDF()\n",
    "    gabResult = {}\n",
    "    gabResult[\"tf\"] = []\n",
    "    gabResult[\"binario\"] = []\n",
    "    gabResult[\"tfidf\"] = []\n",
    "    gabResult[\"bm25\"] = []\n",
    "\n",
    "    for idx in range(len(gabaritoDF)):\n",
    "        gabResult[\"tf\"].append(getGabFormatted(\"tf\", idx, gabaritoDF))\n",
    "        gabResult[\"binario\"].append(getGabFormatted(\"busca_binaria\",idx, gabaritoDF))\n",
    "        gabResult[\"tfidf\"].append(getGabFormatted(\"tfidf\",idx, gabaritoDF))\n",
    "        gabResult[\"bm25\"].append(getGabFormatted(\"bm25\",idx, gabaritoDF))\n",
    "    return gabResult"
   ]
  },
  {
   "cell_type": "code",
   "execution_count": 90,
   "metadata": {
    "collapsed": true
   },
   "outputs": [],
   "source": [
    "#Funções para montar as respostas em formato de dicionarios de arrays oriundas das minhas respostas obtidas no experimento\n",
    "def getMyResultsFormatted(queries, tf, idf):\n",
    "    myResult = {}\n",
    "    myResult[\"tf\"] = []\n",
    "    myResult[\"binario\"] = []\n",
    "    myResult[\"tfidf\"] = []\n",
    "    myResult[\"bm25\"] = []\n",
    "\n",
    "    for query in queries:\n",
    "        myResult[\"binario\"].append(top5Binario(query, tf)) \n",
    "        myResult[\"tf\"].append(top5TF(query, tf))\n",
    "        myResult[\"tfidf\"].append(top5TFIDF(query, tf, idf))\n",
    "        myResult[\"bm25\"].append(top5bm25(query, tf, idf))\n",
    "    return myResult"
   ]
  },
  {
   "cell_type": "code",
   "execution_count": 91,
   "metadata": {},
   "outputs": [],
   "source": [
    "#Armezana em memoria o tf\n",
    "tf = get_tf()\n",
    "#Armezana em memoria o tf\n",
    "idf = get_idf(tf)\n",
    "#Queries que foram utilizadas no experimento\n",
    "queries = [\n",
    "    [\"segundo\", \"turno\"],\n",
    "    [\"lava\", \"jato\"],\n",
    "    [\"projeto\", \"de\", \"lei\"],\n",
    "    [\"compra\", \"de\", \"voto\"],\n",
    "    [\"ministério\", \"público\"]\n",
    "]"
   ]
  },
  {
   "cell_type": "code",
   "execution_count": 92,
   "metadata": {},
   "outputs": [],
   "source": [
    "myResult = getMyResultsFormatted(queries, tf, idf)\n",
    "gabResult = getGabResult()"
   ]
  },
  {
   "cell_type": "code",
   "execution_count": 93,
   "metadata": {
    "scrolled": true
   },
   "outputs": [
    {
     "name": "stdout",
     "output_type": "stream",
     "text": [
      "0.712\n",
      "0.12\n",
      "0.490666666667\n",
      "0.168666666667\n"
     ]
    }
   ],
   "source": [
    "print(mapk(gabResult[\"tf\"], myResult[\"tf\"], k=5))\n",
    "print(mapk(gabResult[\"binario\"], myResult[\"binario\"], k=5))\n",
    "print(mapk(gabResult[\"tfidf\"], myResult[\"tfidf\"], k=5))\n",
    "print(mapk(gabResult[\"bm25\"], myResult[\"bm25\"], k=5))\n"
   ]
  },
  {
   "cell_type": "code",
   "execution_count": 94,
   "metadata": {},
   "outputs": [
    {
     "data": {
      "text/plain": [
       "'\\n    1) Método de busca binaria\\n        Basicamente a ideia deste método é basicamente analisar em todos os documentos existentes a ocorrência ou \\n        não da busca feita em cada documento. Não importanto se a palavra aparece um ou mais vezes. A única coisa \\n        que interessa é se aparece ou não. \\n    2) Método TF:\\n        O método TF também olha em cada documento se há ocorrência ou não da busca feita. A grande vantagem deste\\n        método em relação ao de busca binária, é que ele olha também a frequência. Ou seja, a quantidade de vezes\\n        que as palavras da busca apareceram no documento. Isso é interessante pois dá uma precisão maior na minha \\n        busca em documentos especificos.\\n        \\n    3) Método TF-IDF:\\n        Contudo, quando estamos procurando no todo, o resultado da frequencia da busca pode atrapalhar, já que em\\n        um documento a busca pode aparecer várias vezes e em outro simplesmente não aparecer, gerando uma imprecisão\\n        da busca no todo. Para isto é utilizando o idf no método, para equilibrar a frequência da palavra no \\n        todo.\\n    4) Método bm25:\\n        A ideia do BM25 é rankear a pesquisa baseado nos parametros de busca que aparecem em cada documento,\\n        não importanto a inter-relação entre a pesquisa e o documento. Para mais informações, acredito que\\n        esse link possa explicar bem melhor do que eu: https://en.wikipedia.org/wiki/Okapi_BM25\\n    \\n    Como pode-se notar nos resultados obtidos acima, nota-se que o método mais acertivo em relação ao gabarito foi \\n    método TF. Isso pode ter ocorrido, pois há poucas variações do algoritmo deste método em questão¹. Em segundo,\\n    e em terceiro, temos o tfidf e o bm25. Acredito que isso possa ter acontecido pela diferença no uso do \\n    algoritmo em ambos os casos. No bm25 foi utilizado o okapi BM25 e no tf-idf foi utilizado um diferente do \\n    apresentado no slide(Porém, correto). Outro ponto é que o bm25 tem os parametros k e b, que acabam por ajudar\\n    na variação de score encontrado pelo método para a pesquisa. Por último temos a busca binária, a diferença\\n    se dá pois temos que esse método acabam gerando varios scores iguais, e por isso, na hora do slice acaba-se \\n    por haver essa diferença do gabarito e da resposta encontrada.\\n    \\n    ¹: Com o uso do nltk apresentou-se resultados bem mais parecidos com o do gabarito\\n    ²: Encarei a comporação do google com nossas funções como opcional, já que não estava explicitada no documento\\n    (Ao menos, entendi assim. Peço desculpas caso não era opcional)\\n'"
      ]
     },
     "execution_count": 94,
     "metadata": {},
     "output_type": "execute_result"
    }
   ],
   "source": [
    "#Explicações:\n",
    "\"\"\"\n",
    "    1) Método de busca binaria\n",
    "        Basicamente a ideia deste método é basicamente analisar em todos os documentos existentes a ocorrência ou \n",
    "        não da busca feita em cada documento. Não importanto se a palavra aparece um ou mais vezes. A única coisa \n",
    "        que interessa é se aparece ou não. \n",
    "    2) Método TF:\n",
    "        O método TF também olha em cada documento se há ocorrência ou não da busca feita. A grande vantagem deste\n",
    "        método em relação ao de busca binária, é que ele olha também a frequência. Ou seja, a quantidade de vezes\n",
    "        que as palavras da busca apareceram no documento. Isso é interessante pois dá uma precisão maior na minha \n",
    "        busca em documentos especificos.\n",
    "        \n",
    "    3) Método TF-IDF:\n",
    "        Contudo, quando estamos procurando no todo, o resultado da frequencia da busca pode atrapalhar, já que em\n",
    "        um documento a busca pode aparecer várias vezes e em outro simplesmente não aparecer, gerando uma imprecisão\n",
    "        da busca no todo. Para isto é utilizando o idf no método, para equilibrar a frequência da palavra no \n",
    "        todo.\n",
    "    4) Método bm25:\n",
    "        A ideia do BM25 é rankear a pesquisa baseado nos parametros de busca que aparecem em cada documento,\n",
    "        não importanto a inter-relação entre a pesquisa e o documento. Para mais informações, acredito que\n",
    "        esse link possa explicar bem melhor do que eu: https://en.wikipedia.org/wiki/Okapi_BM25\n",
    "    \n",
    "    Como pode-se notar nos resultados obtidos acima, nota-se que o método mais acertivo em relação ao gabarito foi \n",
    "    método TF. Isso pode ter ocorrido, pois há poucas variações do algoritmo deste método em questão¹. Em segundo,\n",
    "    e em terceiro, temos o tfidf e o bm25. Acredito que isso possa ter acontecido pela diferença no uso do \n",
    "    algoritmo em ambos os casos. No bm25 foi utilizado o okapi BM25 e no tf-idf foi utilizado um diferente do \n",
    "    apresentado no slide(Porém, correto). Outro ponto é que o bm25 tem os parametros k e b, que acabam por ajudar\n",
    "    na variação de score encontrado pelo método para a pesquisa. Por último temos a busca binária, a diferença\n",
    "    se dá pois temos que esse método acabam gerando varios scores iguais, e por isso, na hora do slice acaba-se \n",
    "    por haver essa diferença do gabarito e da resposta encontrada.\n",
    "    \n",
    "    ¹: Com o uso do nltk apresentou-se resultados bem mais parecidos com o do gabarito\n",
    "    ²: Encarei a comporação do google com nossas funções como opcional, já que não estava explicitada no documento\n",
    "    (Ao menos, entendi assim. Peço desculpas caso não era opcional)\n",
    "\"\"\""
   ]
  }
 ],
 "metadata": {
  "kernelspec": {
   "display_name": "Python 3",
   "language": "python",
   "name": "python3"
  },
  "language_info": {
   "codemirror_mode": {
    "name": "ipython",
    "version": 3
   },
   "file_extension": ".py",
   "mimetype": "text/x-python",
   "name": "python",
   "nbconvert_exporter": "python",
   "pygments_lexer": "ipython3",
   "version": "3.6.2"
  }
 },
 "nbformat": 4,
 "nbformat_minor": 2
}
