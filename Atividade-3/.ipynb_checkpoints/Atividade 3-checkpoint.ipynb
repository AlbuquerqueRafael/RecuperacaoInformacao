{
 "cells": [
  {
   "cell_type": "code",
   "execution_count": 6,
   "metadata": {},
   "outputs": [],
   "source": [
    "import pandas as pd\n",
    "import nltk\n",
    "from nltk import bigrams\n",
    "from nltk.corpus import stopwords\n",
    "from nltk.tokenize import RegexpTokenizer"
   ]
  },
  {
   "cell_type": "code",
   "execution_count": null,
   "metadata": {},
   "outputs": [],
   "source": [
    "#Função para carregar o csv, preencher os espaços NaN e formatar o contéudo que ira ser utilizado\n",
    "def getCSVFormattedAsDF():\n",
    "    df = pd.read_csv('estadao_noticias_eleicao.csv')\n",
    "    df = df.fillna('')\n",
    "    df[\"docs\"] = df[\"titulo\"] + ' ' +  df[\"subTitulo\"] + ' ' + df[\"conteudo\"]\n",
    "    return df\n",
    "\n",
    "def removePunctuationDocs(docs):\n",
    "    tokenizer = RegexpTokenizer(r'\\w+')\n",
    "    tokens_lists = docs.apply(lambda text: tokenizer.tokenize(text.lower()))\n",
    "    return tokens_lists\n",
    "\n",
    "def removeStopwords(docs):\n",
    "    stopword = stopwords.words('portuguese')\n",
    "    filtered_tokens = docs.apply(lambda tokens: [token for token in tokens if token not in stopword_])\n",
    "    return filtered_tokens\n",
    "\n",
    "def getTokens(df):\n",
    "    tokens_lists = removePunctuationDocs(df[\"docs\"])\n",
    "    filtered_tokens = removeStopwords(tokens_lists)\n",
    "    print (tokens_lists)\n",
    "    print (filtered_tokens)"
   ]
  },
  {
   "cell_type": "code",
   "execution_count": null,
   "metadata": {},
   "outputs": [],
   "source": []
  },
  {
   "cell_type": "code",
   "execution_count": null,
   "metadata": {},
   "outputs": [],
   "source": []
  },
  {
   "cell_type": "code",
   "execution_count": null,
   "metadata": {},
   "outputs": [],
   "source": [
    "# 1) Escreva uma função que receba uma coleção de documentos e retorne uma matrix de termos-termos contendo \n",
    "# as frequências de co-ocorrência de duas palavras consecutivas no texto (bigramas).\n",
    "def getBigramas(documents):\n",
    "    matrix = {}\n",
    "    numDocs = len(documents[\"idNoticia\"])\n",
    "\n",
    "    for doc in documents:\n",
    "        content = doc[\"data\"]\n",
    "        words = nltk.word_tokenize(content)\n",
    "        \n",
    "        if (len(words) >= 2):\n",
    "            matrix[words[0]] = {}\n",
    "            matrix[word[0]][words[1]] = 1\n",
    "            \n",
    "            for word in words:\n",
    "                word = word.lower()\n",
    "                try:\n",
    "                    tf[df[\"idNoticia\"][idx]][word] = tf[df[\"idNoticia\"][idx]][word] + 1\n",
    "                except KeyError:\n",
    "                    tf[df[\"idNoticia\"][idx]][word] = 1\n",
    "            \n",
    "    return tf\n",
    "    \n",
    "    "
   ]
  },
  {
   "cell_type": "code",
   "execution_count": null,
   "metadata": {},
   "outputs": [],
   "source": [
    "Escreva uma função que receba um certo termo de consulta e a matriz construída no passo 1 acima e retorneas top-3 palavras \n",
    "em ordem decrescente de frequencia.\n",
    "Expanda a consulta original com os termos retornados no passo 2 acima.\n",
    "Faça uma busca disjuntiva (OR) considerando a nova consulta."
   ]
  }
 ],
 "metadata": {
  "kernelspec": {
   "display_name": "Python 3",
   "language": "python",
   "name": "python3"
  },
  "language_info": {
   "codemirror_mode": {
    "name": "ipython",
    "version": 3
   },
   "file_extension": ".py",
   "mimetype": "text/x-python",
   "name": "python",
   "nbconvert_exporter": "python",
   "pygments_lexer": "ipython3",
   "version": "3.6.4"
  }
 },
 "nbformat": 4,
 "nbformat_minor": 2
}
