{
 "cells": [
  {
   "cell_type": "code",
   "execution_count": 94,
   "metadata": {},
   "outputs": [],
   "source": [
    "import pandas as pd\n",
    "import nltk\n",
    "\n",
    "from nltk import bigrams\n",
    "from nltk.corpus import stopwords\n",
    "from nltk.tokenize import RegexpTokenizer"
   ]
  },
  {
   "cell_type": "code",
   "execution_count": 95,
   "metadata": {},
   "outputs": [],
   "source": [
    "#Função para carregar o csv, preencher os espaços NaN e formatar o contéudo que ira ser utilizado\n",
    "def getCSVFormattedAsDF():\n",
    "    df = pd.read_csv('estadao_noticias_eleicao.csv')\n",
    "    df = df.fillna('')\n",
    "    df[\"docs\"] = df[\"titulo\"] + ' ' +  df[\"subTitulo\"] + ' ' + df[\"conteudo\"]\n",
    "    return df\n",
    "\n",
    "#Função para remover as pontuações do documentos\n",
    "def removePunctuationDocs(docs):\n",
    "    tokenizer = RegexpTokenizer(r'\\w+')\n",
    "    tokens_lists = docs.apply(lambda text: tokenizer.tokenize(text.lower()))\n",
    "    return tokens_lists\n",
    "\n",
    "#Função para remover stopwords. \n",
    "# stopwords: https://pt.wikipedia.org/wiki/Palavra_vazia\n",
    "def removeStopWords(tokens_lists):\n",
    "    stopword = stopwords.words('portuguese')\n",
    "    filtered_tokens = tokens_lists.apply(lambda tokens: [token for token in tokens if token not in stopword])\n",
    "    return filtered_tokens\n",
    "\n",
    "#Função para remover stopwords. \n",
    "# stopwords: https://pt.wikipedia.org/wiki/Palavra_vazia                               \n",
    "def getTokens(docs):\n",
    "    tokens = removePunctuationDocs(df[\"docs\"])\n",
    "    filtered_tokens = removeStopWords(tokens)\n",
    "    return filtered_tokens"
   ]
  },
  {
   "cell_type": "code",
   "execution_count": 96,
   "metadata": {},
   "outputs": [],
   "source": [
    "def co_occurrence_matrix(docs_tokens):\n",
    "    docs_bi_grams = docs_tokens.apply(lambda tokens: list(bigrams(tokens)))\n",
    "    collection_big_grams = [bi_gram for doc_big_grams in docs_bi_grams for bi_gram in doc_big_grams]\n",
    "    bigram_freq = nltk.FreqDist(collection_big_grams).most_common(len(collection_big_grams))\n",
    "    matrix = {}\n",
    "    \n",
    "    for bigram in bigram_freq:\n",
    "        postWord = bigram[0][1]\n",
    "        word = bigram[0][0]\n",
    "        count = bigram[1]\n",
    "        co_occurrence_info = (postWord, count)\n",
    "        \n",
    "        if word not in matrix:\n",
    "            matrix[word] = []\n",
    "        matrix[word].append(co_occurrence_info)\n",
    "\n",
    "        \n",
    "    return matrix"
   ]
  },
  {
   "cell_type": "code",
   "execution_count": 115,
   "metadata": {},
   "outputs": [],
   "source": [
    "def top3Consultas(word, matrix):\n",
    "    if (word in matrix):\n",
    "        co_occurrence_info = matrix[word]\n",
    "        info = [(), (), (), ()]\n",
    "        for index in range(len(co_occurrence_info)):\n",
    "            info[index] = co_occurrence_info[index]\n",
    "            if (index == 3):\n",
    "                break\n",
    "        return info"
   ]
  },
  {
   "cell_type": "code",
   "execution_count": 119,
   "metadata": {},
   "outputs": [],
   "source": [
    "def top3ConsultasOR(words, matrix):\n",
    "    dict_words = {}\n",
    "    for word in words:\n",
    "        info = [()] * 3\n",
    "        if (word in matrix):\n",
    "            co_occurrence_info = matrix[word]\n",
    "            for index in range(len(co_occurrence_info)):\n",
    "                info[index] = co_occurrence_info[index]\n",
    "                if (index == 2):\n",
    "                    break\n",
    "            dict_words[word] = info\n",
    "    return dict_words"
   ]
  },
  {
   "cell_type": "code",
   "execution_count": 97,
   "metadata": {},
   "outputs": [],
   "source": [
    "df = getCSVFormattedAsDF()\n",
    "docs_tokens = getTokens(df[\"docs\"])"
   ]
  },
  {
   "cell_type": "code",
   "execution_count": 98,
   "metadata": {},
   "outputs": [],
   "source": [
    "matrix_co_occurence = co_occurrence_matrix(docs_tokens)"
   ]
  },
  {
   "cell_type": "code",
   "execution_count": 117,
   "metadata": {},
   "outputs": [
    {
     "data": {
      "text/plain": [
       "[('paulo', 240), ('é', 90), ('graça', 51), ('presidente', 41)]"
      ]
     },
     "execution_count": 117,
     "metadata": {},
     "output_type": "execute_result"
    }
   ],
   "source": [
    "top3Consultas(\"petrobrás\", matrix_co_occurence)"
   ]
  },
  {
   "cell_type": "code",
   "execution_count": 120,
   "metadata": {},
   "outputs": [
    {
     "data": {
      "text/plain": [
       "{'graça': [('foster', 204), ('disse', 5), ('diz', 4)],\n",
       " 'paulo': [('roberto', 1110), ('skaf', 213), ('câmara', 180)],\n",
       " 'presidente': [('dilma', 3350), ('luiz', 711), ('república', 536)]}"
      ]
     },
     "execution_count": 120,
     "metadata": {},
     "output_type": "execute_result"
    }
   ],
   "source": [
    "top3ConsultasOR([\"paulo\", \"presidente\", \"graça\"], matrix_co_occurence)"
   ]
  },
  {
   "cell_type": "code",
   "execution_count": null,
   "metadata": {},
   "outputs": [],
   "source": []
  },
  {
   "cell_type": "code",
   "execution_count": null,
   "metadata": {},
   "outputs": [],
   "source": [
    "Escreva uma função que receba um certo termo de consulta e a matriz construída no passo 1 acima e retorneas top-3 palavras \n",
    "em ordem decrescente de frequencia.\n",
    "Expanda a consulta original com os termos retornados no passo 2 acima.\n",
    "Faça uma busca disjuntiva (OR) considerando a nova consulta."
   ]
  }
 ],
 "metadata": {
  "kernelspec": {
   "display_name": "Python 3",
   "language": "python",
   "name": "python3"
  },
  "language_info": {
   "codemirror_mode": {
    "name": "ipython",
    "version": 3
   },
   "file_extension": ".py",
   "mimetype": "text/x-python",
   "name": "python",
   "nbconvert_exporter": "python",
   "pygments_lexer": "ipython3",
   "version": "3.6.4"
  }
 },
 "nbformat": 4,
 "nbformat_minor": 2
}
