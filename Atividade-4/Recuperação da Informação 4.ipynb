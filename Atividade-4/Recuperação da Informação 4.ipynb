{
 "cells": [
  {
   "cell_type": "code",
   "execution_count": 447,
   "metadata": {},
   "outputs": [],
   "source": [
    "import pandas as pd\n",
    "import numpy as np\n",
    "from scipy import sparse"
   ]
  },
  {
   "cell_type": "markdown",
   "metadata": {},
   "source": [
    "# Introdução:\n",
    "\n",
    "Esse documento tem como objetivo analisar o famoso algoritmo PageRank. Para isso serão respondidas algumas questões contextualizadas sobre bitcoin utilizando o PageRank para resolvê-las. A base de dados que será utilizada está disponivel em:https://snap.stanford.edu/data/soc-sign-bitcoinotc.csv.gz. A referência do PageRank utilizado está na bibliografia."
   ]
  },
  {
   "cell_type": "markdown",
   "metadata": {},
   "source": [
    "# Sobre os Dados:\n",
    "\n",
    "Os dados consistem de um csv com quatro colunas:\n",
    "<ul>\n",
    "    <li>\n",
    "        <b>SOURCE</b>: Usuário de origem \n",
    "    </li>\n",
    "    <li>\n",
    "        <b>TARGET</b>: Usuário de destino\n",
    "    </li>\n",
    "    <li>\n",
    "        <b>RATING</b>: Nota atribuida pelo source ao target\n",
    "    </li>\n",
    "    <li>\n",
    "        <b>TIME</b>: O tempo que ocorreu a atribuição da nota\n",
    "    </li>\n",
    "</ul>\n"
   ]
  },
  {
   "cell_type": "markdown",
   "metadata": {},
   "source": [
    "# Preparando os dados:"
   ]
  },
  {
   "cell_type": "markdown",
   "metadata": {},
   "source": [
    "Primeiramente iremos ler o csv supracitado:"
   ]
  },
  {
   "cell_type": "code",
   "execution_count": 448,
   "metadata": {},
   "outputs": [],
   "source": [
    "df = pd.read_csv('soc-sign-bitcoinotc.csv')"
   ]
  },
  {
   "cell_type": "markdown",
   "metadata": {},
   "source": [
    "Após isso, iremos filtrar os dados, visto que para nosso experimento somente nos interessa notas(rating) acima de 8"
   ]
  },
  {
   "cell_type": "code",
   "execution_count": 449,
   "metadata": {},
   "outputs": [],
   "source": [
    "formattedDF = df.loc[df.RATING >= 8]"
   ]
  },
  {
   "cell_type": "markdown",
   "metadata": {},
   "source": [
    "# Funções Auxiliares:"
   ]
  },
  {
   "cell_type": "code",
   "execution_count": 450,
   "metadata": {},
   "outputs": [],
   "source": [
    "\"\"\"\n",
    "    Função que retorna estruturas de dados necessárias para a execução do pageRank:\n",
    "    links: Mapa de arrays que contem as informações de quem o usuário recebeu a nota. \n",
    "    numberOfLinks: Mapa de inteiros que contem as informações de quantas vezes o usuários atribuiu nota a alguem \n",
    "    pageRank: Inicia o mapa de pageRank com valores 1 inicias para todos os usuários.\n",
    "\"\"\"\n",
    "def getPageRankDataStructures(formattedDF):\n",
    "    size = len(formattedDF[\"SOURCE\"].values)\n",
    "    pageRank = {}\n",
    "    numberOfLinks = {}\n",
    "    links = {}\n",
    "    for index in range(size):\n",
    "        src = formattedDF[\"SOURCE\"].values[index]\n",
    "        target = formattedDF[\"TARGET\"].values[index]\n",
    "        #initializing pageRank values\n",
    "        pageRank[src] = 1.0\n",
    "\n",
    "        if target not in links:\n",
    "            links[target] = []\n",
    "            links[target].append(src)\n",
    "        else:\n",
    "            links[target].append(src)\n",
    "\n",
    "        if src not in numberOfLinks:\n",
    "            numberOfLinks[src] = 1.0\n",
    "        else:\n",
    "            numberOfLinks[src] += 1.0\n",
    "            \n",
    "    return links, numberOfLinks, pageRank"
   ]
  },
  {
   "cell_type": "code",
   "execution_count": 453,
   "metadata": {},
   "outputs": [],
   "source": [
    "# Faz a iteração do pageRanks\n",
    "def doPageRankInteration(links, numberOfLinks, pageRank):\n",
    "    # Necessário para que os valores das iterações não se confundam quando forem se alterando os valores\n",
    "    # Em outras palavras, armazena o pageRank da iteração anterior\n",
    "    pageRankCopy = {**pageRank}\n",
    "    continueIteration = True\n",
    "    countLoop = 0\n",
    "    while (continueIteration):\n",
    "        for user in pageRank:\n",
    "            pageRank[user] = 0.15 + 0.85*sumPageRank(links, numberOfLinks, user, pageRankCopy)\n",
    "        \n",
    "        continueIteration = False\n",
    "        \n",
    "        for user in pageRank:\n",
    "            value = pageRank[user] - pageRankCopy[user]\n",
    "\n",
    "            if (value > 0.001):\n",
    "                continueIteration = True\n",
    "                break\n",
    "                \n",
    "        countLoop += 1\n",
    "        pageRankCopy = {**pageRank}\n",
    "    return pageRank, countLoop"
   ]
  },
  {
   "cell_type": "code",
   "execution_count": 454,
   "metadata": {},
   "outputs": [],
   "source": [
    "# Calcula a soma relacionada a segunda parte da equação \n",
    "def sumPageRank(links, numberOfLinks, user, pageRankCopy):\n",
    "    soma = 0.0\n",
    "    if (user not in links):\n",
    "        return soma\n",
    "    \n",
    "    for userLinked in links[user]:\n",
    "        soma += (float(pageRankCopy[userLinked])/numberOfLinks[userLinked])\n",
    "    \n",
    "    return soma"
   ]
  },
  {
   "cell_type": "markdown",
   "metadata": {},
   "source": [
    "# Variaveis auxiliares:\n",
    "\n",
    "A partir das funções auxiliares descritas na seção anterior, criamos algumas váriaveis auxiliares que nos ajudarão a deixar o processo mais rápido:"
   ]
  },
  {
   "cell_type": "code",
   "execution_count": 455,
   "metadata": {},
   "outputs": [],
   "source": [
    "#Armazena links, numberOfLinks e pageRank descritos acima\n",
    "links, numberOfLinks, pageRank = getPageRankDataStructures(formattedDF)"
   ]
  },
  {
   "cell_type": "code",
   "execution_count": 458,
   "metadata": {},
   "outputs": [],
   "source": [
    "soma = 0\n",
    "for userLinked in links[1]:\n",
    "        soma += (float(pageRank[userLinked])/numberOfLinks[userLinked])"
   ]
  },
  {
   "cell_type": "code",
   "execution_count": 460,
   "metadata": {
    "scrolled": false
   },
   "outputs": [],
   "source": [
    "#Armazena o valor final do pageRank e o número de loops\n",
    "iteredPageRank, countLoop = doPageRankInteration(links, numberOfLinks, pageRank)\n"
   ]
  },
  {
   "cell_type": "markdown",
   "metadata": {},
   "source": [
    "# Perguntas\n",
    "\n",
    "# Quantas iterações o PageRank precisou rodar até atingir convergência?"
   ]
  },
  {
   "cell_type": "markdown",
   "metadata": {},
   "source": [
    "O número de iterações necessários foi de 43. O limiar escolhido foi quando o valor da iteração n-1 e n de todos os usuários não ultrapassou a diferença de 0.001."
   ]
  },
  {
   "cell_type": "markdown",
   "metadata": {},
   "source": [
    "# Quais os 5 investidores mais importantes segundo o PageRank? Quais seus valores de PageRank?"
   ]
  },
  {
   "cell_type": "code",
   "execution_count": null,
   "metadata": {},
   "outputs": [],
   "source": [
    "#Ordena os usuários por valor de pageRank\n",
    "orderedPageRank = [(key, iteredPageRank[key]) for key in sorted(iteredPageRank, key=iteredPageRank.get, reverse=True)]"
   ]
  },
  {
   "cell_type": "markdown",
   "metadata": {},
   "source": [
    "<table style=\"width:100%\">\n",
    "    <tr>\n",
    "        <th> ID Usuário </th>\n",
    "        <th> Page Rank</th>\n",
    "\n",
    "    </tr>\n",
    "    <tr>\n",
    "        <td> 1 </td>\n",
    "        <td> 8.62530181044244 </td>\n",
    "    </tr>\n",
    "    <tr>\n",
    "        <td> 4172 </td>\n",
    "        <td> 4.195103781381812 </td>\n",
    "    </tr>\n",
    "    <tr>\n",
    "        <td> 2642 </td>\n",
    "        <td> 4.126206533967323 </td>\n",
    "\n",
    "    </tr>\n",
    "    <tr>\n",
    "        <td> 1018 </td>\n",
    "        <td> 3.240076144653836 </td>\n",
    "    </tr>\n",
    "     <tr>\n",
    "        <td> 2647 </td>\n",
    "        <td> 2.9295767398264307 </td>\n",
    "    </tr>\n",
    "</table>"
   ]
  },
  {
   "cell_type": "markdown",
   "metadata": {},
   "source": [
    "# Como você poderia usar o PageRank caso você fosse um investidor em bitcoins?\n",
    "    \n",
    " \n",
    "    \n"
   ]
  },
  {
   "cell_type": "markdown",
   "metadata": {},
   "source": [
    "   <div style=\"text-align: justify;\"> \n",
    "        Considerando o experimento, acredito que um bom jeito de utilizar o PageRank seria para produzir um indice de verificador de confiança. No inicio do experimento podemos ver que há vários usuários com várias transações maiores que 8, contudo, o page rank pega este escopo(do experimento) e determina os usuários mais relevantes, gerando assim uma nova métrica de confiabilidade de usuários para transações. \n",
    "        \n",
    "    </div>"
   ]
  },
  {
   "cell_type": "markdown",
   "metadata": {},
   "source": [
    "# Bibliografia"
   ]
  },
  {
   "cell_type": "markdown",
   "metadata": {},
   "source": [
    "http://pr.efactory.de/e-pagerank-algorithm.shtml"
   ]
  }
 ],
 "metadata": {
  "kernelspec": {
   "display_name": "Python 3",
   "language": "python",
   "name": "python3"
  },
  "language_info": {
   "codemirror_mode": {
    "name": "ipython",
    "version": 3
   },
   "file_extension": ".py",
   "mimetype": "text/x-python",
   "name": "python",
   "nbconvert_exporter": "python",
   "pygments_lexer": "ipython3",
   "version": "3.6.4"
  }
 },
 "nbformat": 4,
 "nbformat_minor": 2
}
